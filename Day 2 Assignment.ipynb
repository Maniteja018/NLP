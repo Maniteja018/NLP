{
 "cells": [
  {
   "cell_type": "code",
   "execution_count": 1,
   "id": "9e9c5673",
   "metadata": {},
   "outputs": [
    {
     "name": "stdout",
     "output_type": "stream",
     "text": [
      "10\n",
      "30\n",
      "50\n"
     ]
    }
   ],
   "source": [
    "my_list = [10, 20, 30, 40, 50]\n",
    "\n",
    "print(my_list[0])  \n",
    "print(my_list[2])  \n",
    "print(my_list[-1])\n"
   ]
  },
  {
   "cell_type": "code",
   "execution_count": 2,
   "id": "9ead0908",
   "metadata": {},
   "outputs": [
    {
     "name": "stdout",
     "output_type": "stream",
     "text": [
      "1\n",
      "3\n",
      "5\n"
     ]
    }
   ],
   "source": [
    "my_tuple = (1, 2, 3, 4, 5)\n",
    "\n",
    "print(my_tuple[0])\n",
    "print(my_tuple[2])  \n",
    "print(my_tuple[-1]) \n"
   ]
  },
  {
   "cell_type": "code",
   "execution_count": 3,
   "id": "591c98a5",
   "metadata": {},
   "outputs": [
    {
     "name": "stdout",
     "output_type": "stream",
     "text": [
      "100\n",
      "300\n",
      "500\n"
     ]
    }
   ],
   "source": [
    "my_dict = {\"a\": 100, \"b\": 200, \"c\": 300, \"d\": 400, \"e\": 500}\n",
    "\n",
    "print(my_dict[\"a\"]) \n",
    "print(my_dict[\"c\"]) \n",
    "print(my_dict[\"e\"])  "
   ]
  },
  {
   "cell_type": "code",
   "execution_count": null,
   "id": "b425d971",
   "metadata": {},
   "outputs": [],
   "source": []
  }
 ],
 "metadata": {
  "kernelspec": {
   "display_name": "Python 3 (ipykernel)",
   "language": "python",
   "name": "python3"
  },
  "language_info": {
   "codemirror_mode": {
    "name": "ipython",
    "version": 3
   },
   "file_extension": ".py",
   "mimetype": "text/x-python",
   "name": "python",
   "nbconvert_exporter": "python",
   "pygments_lexer": "ipython3",
   "version": "3.9.13"
  }
 },
 "nbformat": 4,
 "nbformat_minor": 5
}
